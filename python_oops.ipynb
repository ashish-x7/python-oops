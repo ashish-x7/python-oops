{
  "nbformat": 4,
  "nbformat_minor": 0,
  "metadata": {
    "colab": {
      "provenance": []
    },
    "kernelspec": {
      "name": "python3",
      "display_name": "Python 3"
    },
    "language_info": {
      "name": "python"
    }
  },
  "cells": [
    {
      "cell_type": "code",
      "execution_count": 30,
      "metadata": {
        "id": "rI3auNCT2ZoR"
      },
      "outputs": [],
      "source": []
    },
    {
      "cell_type": "markdown",
      "source": [
        "# **Python OOPs**"
      ],
      "metadata": {
        "id": "t4UDhXdx2bAu"
      }
    },
    {
      "cell_type": "markdown",
      "source": [
        "1. What is Object-Oriented Programming (OOP) ?\n",
        "- Object-Oriented Programming (OOP) is a programming paradigm (or style of    programming) that organizes software design around objects rather than just functions and logic.\n",
        "\n",
        "  An object represents a real-world entity (like a car, employee, or bank account) and is made up of:\n",
        "\n",
        "  Data (attributes/properties): The characteristics of the object.\n",
        "\n",
        "  Methods (functions/behaviors): The actions the object can perform.\n",
        "\n",
        "\n",
        "2. What is a class in OOP?\n",
        "- Object-Oriented Programming (OOP), a class is like a blueprint or template for creating objects.\n",
        "  Attributes (variables/properties) → describe the data of the object.\n",
        "\n",
        "  Methods (functions/behaviors) → define what the object can do.\n",
        "\n",
        "\n",
        "3. What is an object in OOP?\n",
        "- In Object-Oriented Programming (OOP), an object is an instance of a class.\n",
        "\n",
        "\n",
        "4. What is the difference between abstraction and encapsulation?\n",
        " - Abstraction\n",
        "\n",
        "   Hides implementation details and shows only the essential features.\n",
        "\n",
        "   Focuses on what an object does.\n",
        "\n",
        "   Achieved using abstract classes or interfaces.\n",
        "\n",
        "   Example: Driving a car without knowing how the engine works.\n",
        "\n",
        " - Encapsulation\n",
        "\n",
        "   Hides the internal data of an object and binds it with methods.\n",
        "\n",
        "   Focuses on how the data is protected and organized.\n",
        "\n",
        "   Achieved using classes and access modifiers (private, protected, public).\n",
        "\n",
        "   Example: The car’s engine and parts are hidden inside the car body, you cannot directly change them.\n",
        "\n",
        "\n",
        "5. What are dunder methods in Python?\n",
        " - In Python, dunder methods (short for double underscore methods) are special built-in methods that start and end with two underscores (like __init__, __str__, __add__).\n",
        "\n",
        "\n",
        "6. Explain the concept of inheritance in OOP.\n",
        " - Inheritance in Object-Oriented Programming (OOP) is a mechanism that allows  a class (called the child class or subclass) to reuse the properties and methods of another class (called the parent class or superclass).\n",
        "\n",
        "   It helps in creating a hierarchy of classes, avoids code duplication, and makes programs easier to maintain and extend.\n",
        "\n",
        "\n",
        "7. What is polymorphism in OOP?\n",
        " - The word Polymorphism comes from Greek: “poly” (many) + “morph” (forms) → meaning “many forms”.\n",
        "\n",
        "   In OOP, Polymorphism means the same method or operation can behave differently depending on the object (class) that uses it.\n",
        "\n",
        "   It allows one interface to be used for different underlying data types, making code more flexible and reusable.\n",
        "\n",
        "\n",
        "8. How is encapsulation achieved in Python?\n",
        " - Encapsulation in Python is achieved using classes and access modifiers (private, protected, public). The internal data of an object is hidden and bound with methods within the class, focusing on how the data is protected and organized.\n",
        "\n",
        "\n",
        "9. What is a constructor in Python?\n",
        " - A constructor in Python is a special method called __init__ that is used to initialize the attributes of an object when it is created.\n"
      ],
      "metadata": {
        "id": "9yKaI3fU2ddw"
      }
    },
    {
      "cell_type": "markdown",
      "metadata": {
        "id": "e19d6230"
      },
      "source": [
        "10. What are class and static methods in Python?\n",
        "\n",
        "*   **Class Methods:**\n",
        "    *   Bound to the class and not the object of the class.\n",
        "    *   They take the class itself as the first argument, conventionally named `cls`.\n",
        "    *   Can access and modify class state.\n",
        "    *   Often used for factory methods that return an instance of the class.\n",
        "\n",
        "*   **Static Methods:**\n",
        "    *   Not bound to either the class or the object.\n",
        "    *   They don't take `self` or `cls` as the first argument.\n",
        "    *   Cannot access or modify class or instance state.\n",
        "    *   Behave like regular functions but are part of the class's namespace.\n",
        "    *   Often used for utility functions that have a logical connection to the class but don't need access to class or instance data."
      ]
    },
    {
      "cell_type": "markdown",
      "metadata": {
        "id": "00b3fe8b"
      },
      "source": [
        "11. What is method overloading in Python?\n",
        "- Method overloading is the ability to define multiple methods within the same class that have the same name but different signatures (i.e., different numbers or types of parameters). However, Python does not support method overloading in the same way that some other languages (like Java or C++) do. If you define multiple methods with the same name in a Python class, the last one defined will override the previous ones.\n",
        "\n",
        "To achieve similar functionality in Python, you can use:\n",
        "*   Default parameter values\n",
        "*   Variable-length arguments (`*args` and `**kwargs`)\n",
        "*   Type checking within the method"
      ]
    },
    {
      "cell_type": "markdown",
      "metadata": {
        "id": "1809d82e"
      },
      "source": [
        "12. What is method overriding in OOP?\n",
        "- Method overriding is a feature of object-oriented programming that allows a subclass or child class to provide a specific implementation for a method that is already provided by one of its superclasses or parent classes. When a method in a subclass has the same name, same parameters or signature, and same return type (or covariant return type) as a method in its superclass, then the method in the subclass is said to override the method in the superclass."
      ]
    },
    {
      "cell_type": "code",
      "metadata": {
        "colab": {
          "base_uri": "https://localhost:8080/"
        },
        "id": "b53f7275",
        "outputId": "39106f3d-b456-4777-c7ca-078f0321a95e"
      },
      "source": [
        "class Parent:\n",
        "    def show_message(self):\n",
        "        print(\"Message from Parent class\")\n",
        "\n",
        "class Child(Parent):\n",
        "    # This method overrides the show_message method in Parent class\n",
        "    def show_message(self):\n",
        "        print(\"Message from Child class\")\n",
        "\n",
        "# Creating objects\n",
        "parent_obj = Parent()\n",
        "child_obj = Child()\n",
        "\n",
        "# Calling the overridden method\n",
        "parent_obj.show_message()\n",
        "child_obj.show_message()"
      ],
      "execution_count": 31,
      "outputs": [
        {
          "output_type": "stream",
          "name": "stdout",
          "text": [
            "Message from Parent class\n",
            "Message from Child class\n"
          ]
        }
      ]
    },
    {
      "cell_type": "markdown",
      "metadata": {
        "id": "e2d1485c"
      },
      "source": [
        "13. What is a property decorator in Python?\n",
        "- In Python, the `@property` decorator is a built-in decorator that allows you to define methods in a class that can be accessed like attributes. It provides a way to manage how attributes are accessed, set, or deleted, allowing you to add logic (like validation or computation) without changing the way the attribute is accessed from outside the class. It essentially turns a method into a \"getter\" for an attribute. You can also define \"setter\" and \"deleter\" methods for the property using `@<property_name>.setter` and `@<property_name>.deleter`."
      ]
    },
    {
      "cell_type": "code",
      "metadata": {
        "colab": {
          "base_uri": "https://localhost:8080/"
        },
        "id": "2c7b31c0",
        "outputId": "3acae747-a065-44c7-da09-c613b284b86d"
      },
      "source": [
        "class Circle:\n",
        "    def __init__(self, radius):\n",
        "        self._radius = radius # Use a private variable convention\n",
        "\n",
        "    @property\n",
        "    def radius(self):\n",
        "        \"\"\"Get the radius of the circle.\"\"\"\n",
        "        print(\"Getting radius...\")\n",
        "        return self._radius\n",
        "\n",
        "    @radius.setter\n",
        "    def radius(self, value):\n",
        "        \"\"\"Set the radius of the circle with validation.\"\"\"\n",
        "        print(\"Setting radius...\")\n",
        "        if value >= 0:\n",
        "            self._radius = value\n",
        "        else:\n",
        "            raise ValueError(\"Radius cannot be negative\")\n",
        "\n",
        "    @radius.deleter\n",
        "    def radius(self):\n",
        "        \"\"\"Delete the radius.\"\"\"\n",
        "        print(\"Deleting radius...\")\n",
        "        del self._radius\n",
        "\n",
        "# Creating a Circle object\n",
        "my_circle = Circle(5)\n",
        "\n",
        "# Accessing the property (calls the getter)\n",
        "print(f\"Initial radius: {my_circle.radius}\")\n",
        "\n",
        "# Setting the property (calls the setter)\n",
        "my_circle.radius = 10\n",
        "print(f\"Updated radius: {my_circle.radius}\")\n",
        "\n",
        "# Trying to set a negative radius (will raise an error)\n",
        "try:\n",
        "    my_circle.radius = -2\n",
        "except ValueError as e:\n",
        "    print(f\"Error: {e}\")\n",
        "\n",
        "# Deleting the property (calls the deleter)\n",
        "del my_circle.radius\n",
        "\n",
        "# Trying to access the deleted property (will raise an AttributeError)\n",
        "try:\n",
        "    print(my_circle.radius)\n",
        "except AttributeError as e:\n",
        "    print(f\"Error: {e}\")"
      ],
      "execution_count": 32,
      "outputs": [
        {
          "output_type": "stream",
          "name": "stdout",
          "text": [
            "Getting radius...\n",
            "Initial radius: 5\n",
            "Setting radius...\n",
            "Getting radius...\n",
            "Updated radius: 10\n",
            "Setting radius...\n",
            "Error: Radius cannot be negative\n",
            "Deleting radius...\n",
            "Getting radius...\n",
            "Error: 'Circle' object has no attribute '_radius'\n"
          ]
        }
      ]
    },
    {
      "cell_type": "markdown",
      "metadata": {
        "id": "cd5724ec"
      },
      "source": [
        "14. Why is polymorphism important in OOP?\n",
        "- Polymorphism is important in OOP because it allows for:\n",
        "    *   **Code Reusability:** You can write code that works with objects of different types, as long as they share a common interface (methods with the same name). This reduces code duplication.\n",
        "    *   **Flexibility and Extensibility:** You can easily add new classes that implement the same interface without modifying existing code. This makes your programs more flexible and easier to extend.\n",
        "    *   **Maintainability:** Code becomes easier to understand and maintain because you can work with objects at a higher level of abstraction, without needing to know their specific type.\n",
        "    *   **Decoupling:** It helps in decoupling the code that uses an object from the specific implementation details of that object."
      ]
    },
    {
      "cell_type": "markdown",
      "metadata": {
        "id": "c643e931"
      },
      "source": [
        "15. What is an abstract class in Python?\n",
        "- An abstract class is a class that cannot be instantiated (you cannot create objects directly from it). It is designed to be a blueprint for other classes, defining a common interface with abstract methods. Abstract methods are methods declared in the abstract class but have no implementation; they must be implemented by any concrete (non-abstract) subclass that inherits from the abstract class. In Python, you can create abstract classes using the `abc` module (Abstract Base Classes)."
      ]
    },
    {
      "cell_type": "markdown",
      "metadata": {
        "id": "99afe9e3"
      },
      "source": [
        "16. What are the advantages of OOP?\n",
        "- Object-Oriented Programming (OOP) offers several advantages:\n",
        "    *   **Modularity:** Objects create self-contained modules, making code easier to understand, debug, and maintain.\n",
        "    *   **Reusability:** Inheritance allows new classes to reuse properties and behaviors of existing classes, reducing code duplication.\n",
        "    *   **Flexibility and Extensibility:** Polymorphism allows objects of different classes to be treated as objects of a common superclass, making code more flexible and easier to extend with new types.\n",
        "    *   **Maintainability:** Encapsulation and modularity make it easier to modify and update code without affecting other parts of the program.\n",
        "    *   **Abstraction:** Complex systems can be simplified by focusing on essential features and hiding unnecessary details.\n",
        "    *   **Improved Collaboration:** The modular nature of OOP makes it easier for multiple developers to work on different parts of a project simultaneously."
      ]
    },
    {
      "cell_type": "markdown",
      "metadata": {
        "id": "08c3e08d"
      },
      "source": [
        "17. What is the difference between a class variable and an instance variable?\n",
        "\n",
        "*   **Class Variable:**\n",
        "    *   Belongs to the class itself, not to any specific instance (object) of the class.\n",
        "    *   Shared among all instances of the class.\n",
        "    *   Defined within the class but outside of any instance methods.\n",
        "    *   Accessed using the class name or an instance of the class (though accessing with the class name is preferred for clarity).\n",
        "\n",
        "*   **Instance Variable:**\n",
        "    *   Belongs to a specific instance (object) of the class.\n",
        "    *   Each instance has its own copy of the instance variables.\n",
        "    *   Defined within the constructor (`__init__`) or other instance methods using `self`.\n",
        "    *   Accessed using an instance of the class."
      ]
    },
    {
      "cell_type": "markdown",
      "metadata": {
        "id": "f82dbf07"
      },
      "source": [
        "18. What is multiple inheritance in Python?\n",
        "- Multiple inheritance is a feature in object-oriented programming where a class can inherit properties and behaviors from more than one parent class. This allows a child class to combine functionalities from multiple sources. While it offers flexibility, it can also introduce complexities like the \"diamond problem,\" where the order of method resolution from multiple parent classes needs careful handling. Python supports multiple inheritance and uses the Method Resolution Order (MRO) to determine the order in which base classes are searched when a method is called."
      ]
    },
    {
      "cell_type": "markdown",
      "metadata": {
        "id": "8ef50b47"
      },
      "source": [
        "19. Explain the purpose of `__str__` and `__repr__` methods in Python.\n",
        "- In Python, `__str__` and `__repr__` are special methods (dunder methods) used to define how objects are represented as strings.\n",
        "\n",
        "    *   `__str__`:\n",
        "        *   Provides a user-friendly string representation of an object.\n",
        "        *   Called by functions like `str()`, `print()`, and `format()`.\n",
        "        *   Should be readable and informative for the end-user.\n",
        "\n",
        "    *   `__repr__`:\n",
        "        *   Provides a developer-friendly string representation of an object.\n",
        "        *   Aims to be unambiguous and, if possible, should return a string that could be used to recreate the object.\n",
        "        *   Called by functions like `repr()` and interactive interpreters.\n",
        "        *   If `__str__` is not defined, `__repr__` is used as the fallback for `str()`."
      ]
    },
    {
      "cell_type": "code",
      "metadata": {
        "colab": {
          "base_uri": "https://localhost:8080/"
        },
        "id": "293000ba",
        "outputId": "6938cd54-e488-43d3-9ae4-f3289685b32a"
      },
      "source": [
        "class MyObject:\n",
        "    def __init__(self, name, value):\n",
        "        self.name = name\n",
        "        self.value = value\n",
        "\n",
        "    def __str__(self):\n",
        "        \"\"\"User-friendly representation.\"\"\"\n",
        "        return f\"MyObject: Name='{self.name}', Value={self.value}\"\n",
        "\n",
        "    def __repr__(self):\n",
        "        \"\"\"Developer-friendly representation.\"\"\"\n",
        "        return f\"MyObject(name='{self.name}', value={self.value})\"\n",
        "\n",
        "# Creating an object\n",
        "my_obj = MyObject(\"Example\", 123)\n",
        "\n",
        "# Using print() (calls __str__)\n",
        "print(my_obj)\n",
        "\n",
        "# Using str()\n",
        "print(str(my_obj))\n",
        "\n",
        "# Using repr()\n",
        "print(repr(my_obj))\n",
        "\n",
        "# In an interactive interpreter, just typing the object name calls __repr__\n",
        "# my_obj"
      ],
      "execution_count": 33,
      "outputs": [
        {
          "output_type": "stream",
          "name": "stdout",
          "text": [
            "MyObject: Name='Example', Value=123\n",
            "MyObject: Name='Example', Value=123\n",
            "MyObject(name='Example', value=123)\n"
          ]
        }
      ]
    },
    {
      "cell_type": "markdown",
      "metadata": {
        "id": "a7023429"
      },
      "source": [
        "20. What is the significance of the `super()` function in Python?\n",
        "- The `super()` function in Python is used to refer to the parent class or superclass. It has two main uses:\n",
        "\n",
        "    *   **Calling Parent Class Methods:** It allows you to call methods defined in the parent class from the child class, even if the child class has overridden those methods. This is particularly useful in the `__init__` method of a child class to call the parent class's `__init__` to initialize inherited attributes.\n",
        "    *   **Handling Multiple Inheritance:** In cases of multiple inheritance, `super()` helps in navigating the Method Resolution Order (MRO) to ensure that methods are called in the correct order from multiple parent classes.\n",
        "\n",
        "Using `super()` is generally recommended over directly calling the parent class method (e.g., `ParentClass.__init__(self, ...)`) because it automatically handles inheritance and MRO, making your code more maintainable and robust, especially with complex inheritance hierarchies."
      ]
    },
    {
      "cell_type": "code",
      "metadata": {
        "colab": {
          "base_uri": "https://localhost:8080/"
        },
        "id": "d23e5222",
        "outputId": "8646e0d4-f675-45d5-e994-b20ef31da4ae"
      },
      "source": [
        "class Parent:\n",
        "    def __init__(self, name):\n",
        "        self.name = name\n",
        "        print(f\"Parent __init__ called for {self.name}\")\n",
        "\n",
        "    def show_message(self):\n",
        "        print(\"Message from Parent\")\n",
        "\n",
        "class Child(Parent):\n",
        "    def __init__(self, name, age):\n",
        "        # Call the parent class's __init__ using super()\n",
        "        super().__init__(name)\n",
        "        self.age = age\n",
        "        print(f\"Child __init__ called for {self.name} with age {self.age}\")\n",
        "\n",
        "    def show_message(self):\n",
        "        # Call the parent class's show_message using super()\n",
        "        super().show_message()\n",
        "        print(\"Message from Child\")\n",
        "\n",
        "# Creating an object of the Child class\n",
        "child_obj = Child(\"Alice\", 30)\n",
        "\n",
        "# Calling the overridden method in the Child class\n",
        "child_obj.show_message()"
      ],
      "execution_count": 34,
      "outputs": [
        {
          "output_type": "stream",
          "name": "stdout",
          "text": [
            "Parent __init__ called for Alice\n",
            "Child __init__ called for Alice with age 30\n",
            "Message from Parent\n",
            "Message from Child\n"
          ]
        }
      ]
    },
    {
      "cell_type": "markdown",
      "metadata": {
        "id": "4cad23dc"
      },
      "source": [
        "21. What is the significance of the `__del__` method in Python?\n",
        "- The `__del__` method, also known as the destructor, is a special method in Python that is called when an object is about to be destroyed or garbage collected. It's used to perform cleanup activities, such as closing file handles, releasing external resources, or disconnecting from databases.\n",
        "\n",
        "**Significance:**\n",
        "\n",
        "*   **Resource Management:** It allows you to ensure that resources acquired by an object are properly released when the object is no longer needed, preventing resource leaks.\n",
        "*   **Cleanup Operations:** You can define specific actions to be taken just before an object is removed from memory.\n",
        "\n",
        "**Important Considerations:**\n",
        "\n",
        "*   **Unpredictable Timing:** The exact timing of when `__del__` is called is not guaranteed due to Python's garbage collection mechanism. Objects might not be garbage collected immediately after they are no longer referenced.\n",
        "*   **Circular References:** Circular references between objects can prevent garbage collection and thus prevent `__del__` from being called.\n",
        "*   **Errors in `__del__`:** Exceptions raised within `__del__` are ignored by the garbage collector, which can make debugging difficult.\n",
        "\n",
        "Due to these complexities, it's generally recommended to use explicit methods (like a `close()` method) for resource cleanup rather than relying solely on `__del__`, especially for critical resources."
      ]
    },
    {
      "cell_type": "code",
      "metadata": {
        "colab": {
          "base_uri": "https://localhost:8080/"
        },
        "id": "923d7ed1",
        "outputId": "e4f1c2f6-3ebb-4dfe-96e9-23cb586196ea"
      },
      "source": [
        "class MyResource:\n",
        "    def __init__(self, name):\n",
        "        self.name = name\n",
        "        print(f\"Resource '{self.name}' created\")\n",
        "\n",
        "    def __del__(self):\n",
        "        \"\"\"Destructor for cleanup.\"\"\"\n",
        "        print(f\"Resource '{self.name}' is being deleted\")\n",
        "\n",
        "# Creating an object\n",
        "resource1 = MyResource(\"File Handler 1\")\n",
        "\n",
        "# The __del__ method will be called when resource1 is garbage collected\n",
        "# This might happen when the program exits or when there are no more references to the object.\n",
        "\n",
        "# Example of removing reference to potentially trigger garbage collection (timing is not guaranteed)\n",
        "resource1 = None\n",
        "\n",
        "print(\"End of script\")"
      ],
      "execution_count": 35,
      "outputs": [
        {
          "output_type": "stream",
          "name": "stdout",
          "text": [
            "Resource 'File Handler 1' created\n",
            "Resource 'File Handler 1' is being deleted\n",
            "End of script\n"
          ]
        }
      ]
    },
    {
      "cell_type": "markdown",
      "metadata": {
        "id": "78ac8d13"
      },
      "source": [
        "22. What is the difference between `@staticmethod` and `@classmethod` in Python?\n",
        "\n",
        "*   **Class Methods (`@classmethod`):**\n",
        "    *   Bound to the class and not the object of the class.\n",
        "    *   They take the class itself as the first argument, conventionally named `cls`.\n",
        "    *   Can access and modify class state (class variables).\n",
        "    *   Often used for factory methods that return an instance of the class.\n",
        "\n",
        "*   **Static Methods (`@staticmethod`):**\n",
        "    *   Not bound to either the class or the object.\n",
        "    *   They don't take `self` (instance) or `cls` (class) as the first argument.\n",
        "    *   Cannot access or modify class or instance state.\n",
        "    *   Behave like regular functions but are part of the class's namespace.\n",
        "    *   Often used for utility functions that have a logical connection to the class but don't need access to class or instance data.\n",
        "\n",
        "**Key Differences Summarized:**\n",
        "\n",
        "| Feature          | `@classmethod`           | `@staticmethod`            |\n",
        "| :--------------- | :----------------------- | :------------------------- |\n",
        "| First Argument   | `cls` (the class itself) | None (regular arguments)   |\n",
        "| Access to State  | Class state              | Neither class nor instance |\n",
        "| Use Cases        | Factory methods, methods operating on class state | Utility functions within class namespace |"
      ]
    },
    {
      "cell_type": "markdown",
      "metadata": {
        "id": "ee0d77f0"
      },
      "source": [
        "23. How does polymorphism work in Python with inheritance?\n",
        "- In Python, polymorphism with inheritance is achieved through method overriding. When a subclass inherits from a superclass, it can provide its own specific implementation for a method that is already defined in the superclass. This means that an object of the subclass can be treated as an object of the superclass, but when the overridden method is called, the subclass's implementation is executed. This allows for flexibility and the ability to write generic code that can work with objects of different but related types."
      ]
    },
    {
      "cell_type": "code",
      "metadata": {
        "colab": {
          "base_uri": "https://localhost:8080/"
        },
        "id": "d18a07b8",
        "outputId": "2988904b-fa26-4ccb-aec5-a91b43b9e82a"
      },
      "source": [
        "class Animal:\n",
        "    def speak(self):\n",
        "        pass # Base class with a placeholder method\n",
        "\n",
        "class Dog(Animal):\n",
        "    def speak(self):\n",
        "        return \"Woof!\"\n",
        "\n",
        "class Cat(Animal):\n",
        "    def speak(self):\n",
        "        return \"Meow!\"\n",
        "\n",
        "class Duck(Animal):\n",
        "    def speak(self):\n",
        "        return \"Quack!\"\n",
        "\n",
        "# A function that works with any object that has a 'speak' method\n",
        "def animal_sound(animal):\n",
        "    print(animal.speak())\n",
        "\n",
        "# Creating objects of different animal types\n",
        "dog = Dog()\n",
        "cat = Cat()\n",
        "duck = Duck()\n",
        "\n",
        "# Calling the animal_sound function with different objects\n",
        "animal_sound(dog)\n",
        "animal_sound(cat)\n",
        "animal_sound(duck)"
      ],
      "execution_count": 36,
      "outputs": [
        {
          "output_type": "stream",
          "name": "stdout",
          "text": [
            "Woof!\n",
            "Meow!\n",
            "Quack!\n"
          ]
        }
      ]
    },
    {
      "cell_type": "markdown",
      "metadata": {
        "id": "bf081395"
      },
      "source": [
        "24. What is method chaining in Python OOP?\n",
        "- Method chaining is a programming technique that allows you to call multiple methods on an object in a single expression. This is achieved by having each method return the object itself (`self`) after performing its operation. This makes the code more concise and readable, especially when performing a series of operations on the same object."
      ]
    },
    {
      "cell_type": "code",
      "metadata": {
        "colab": {
          "base_uri": "https://localhost:8080/"
        },
        "id": "f29c9792",
        "outputId": "d9da2cf4-c3d2-442d-cce3-06236ed2d6a8"
      },
      "source": [
        "class Calculator:\n",
        "    def __init__(self, value=0):\n",
        "        self.value = value\n",
        "\n",
        "    def add(self, num):\n",
        "        self.value += num\n",
        "        return self # Return self to allow chaining\n",
        "\n",
        "    def subtract(self, num):\n",
        "        self.value -= num\n",
        "        return self # Return self to allow chaining\n",
        "\n",
        "    def multiply(self, num):\n",
        "        self.value *= num\n",
        "        return self # Return self to allow chaining\n",
        "\n",
        "    def divide(self, num):\n",
        "        if num != 0:\n",
        "            self.value /= num\n",
        "        else:\n",
        "            print(\"Error: Division by zero\")\n",
        "        return self # Return self to allow chaining\n",
        "\n",
        "    def get_value(self):\n",
        "        return self.value\n",
        "\n",
        "# Using method chaining\n",
        "result = Calculator(10).add(5).subtract(2).multiply(3).divide(4).get_value()\n",
        "\n",
        "print(f\"The result of the chained operations is: {result}\")\n",
        "\n",
        "# Without method chaining, it would look like this:\n",
        "# calc = Calculator(10)\n",
        "# calc.add(5)\n",
        "# calc.subtract(2)\n",
        "# calc.multiply(3)\n",
        "# calc.divide(4)\n",
        "# result_without_chaining = calc.get_value()\n",
        "# print(f\"The result without chaining is: {result_without_chaining}\")"
      ],
      "execution_count": 37,
      "outputs": [
        {
          "output_type": "stream",
          "name": "stdout",
          "text": [
            "The result of the chained operations is: 9.75\n"
          ]
        }
      ]
    },
    {
      "cell_type": "markdown",
      "metadata": {
        "id": "99e84afd"
      },
      "source": [
        "24. What is method chaining in Python OOP?\n",
        "- Method chaining is a programming technique that allows you to call multiple methods on an object in a single expression. This is achieved by having each method return the object itself (`self`) after performing its operation. This makes the code more concise and readable, especially when performing a series of operations on the same object."
      ]
    },
    {
      "cell_type": "markdown",
      "metadata": {
        "id": "e156075e"
      },
      "source": [
        "25. What is the purpose of the `__call__` method in Python?\n",
        "- The `__call__` method is a special method in Python that allows an instance of a class to be called like a function. If a class defines a `__call__` method, you can create an object of that class and then call that object using parentheses, just like you would call a regular function.\n",
        "\n",
        "The purpose of `__call__` is to make instances of a class callable. This can be useful in various scenarios, such as:\n",
        "\n",
        "*   Creating objects that behave like functions (e.g., for decorators, closures, or custom callable objects).\n",
        "*   Implementing objects that maintain state between calls.\n",
        "*   Creating function-like objects that can be passed around as arguments to other functions."
      ]
    },
    {
      "cell_type": "code",
      "metadata": {
        "colab": {
          "base_uri": "https://localhost:8080/"
        },
        "id": "7cc70a53",
        "outputId": "9fc8ba7b-e80b-4036-c002-fc44e8b37365"
      },
      "source": [
        "class Multiplier:\n",
        "    def __init__(self, factor):\n",
        "        self.factor = factor\n",
        "\n",
        "    def __call__(self, x):\n",
        "        \"\"\"This method makes an instance of Multiplier callable.\"\"\"\n",
        "        return x * self.factor\n",
        "\n",
        "# Creating an instance of the Multiplier class\n",
        "double = Multiplier(2)\n",
        "triple = Multiplier(3)\n",
        "\n",
        "# Calling the instances like functions\n",
        "result1 = double(10)\n",
        "result2 = triple(5)\n",
        "\n",
        "print(f\"Double of 10: {result1}\")\n",
        "print(f\"Triple of 5: {result2}\")\n",
        "\n",
        "# You can also pass the callable object to other functions\n",
        "def apply_function(func, value):\n",
        "    return func(value)\n",
        "\n",
        "result3 = apply_function(double, 7)\n",
        "print(f\"Applying double to 7: {result3}\")"
      ],
      "execution_count": 38,
      "outputs": [
        {
          "output_type": "stream",
          "name": "stdout",
          "text": [
            "Double of 10: 20\n",
            "Triple of 5: 15\n",
            "Applying double to 7: 14\n"
          ]
        }
      ]
    },
    {
      "cell_type": "markdown",
      "source": [
        "# **Practical Questions**"
      ],
      "metadata": {
        "id": "Dz1T5OhV_1gv"
      }
    },
    {
      "cell_type": "code",
      "metadata": {
        "colab": {
          "base_uri": "https://localhost:8080/"
        },
        "id": "743111de",
        "outputId": "a35da593-dd37-4780-e95c-5af8bb058c93"
      },
      "source": [
        "#1. Create a parent class Animal with a method speak() that prints a generic message. Create a child class Dog that overrides the speak() method to print \"Bark!\n",
        "class Animal:\n",
        "    def speak(self):\n",
        "        print(\"Generic animal sound\")\n",
        "\n",
        "class Dog(Animal):\n",
        "    def speak(self):\n",
        "        print(\"Bark!\")\n",
        "\n",
        "# Create instances of the classes\n",
        "animal = Animal()\n",
        "dog = Dog()\n",
        "\n",
        "# Call the speak method on each instance\n",
        "animal.speak()\n",
        "dog.speak()"
      ],
      "execution_count": 39,
      "outputs": [
        {
          "output_type": "stream",
          "name": "stdout",
          "text": [
            "Generic animal sound\n",
            "Bark!\n"
          ]
        }
      ]
    },
    {
      "cell_type": "code",
      "metadata": {
        "colab": {
          "base_uri": "https://localhost:8080/"
        },
        "id": "80b630d2",
        "outputId": "85882b0a-3aa3-4bfe-f1bb-64768d9e155e"
      },
      "source": [
        "#2.Write a program to create an abstract class Shape with a method area(). Derive classes Circle and Rectangle from it and implement the area() method in both.\n",
        "from abc import ABC, abstractmethod\n",
        "\n",
        "class Shape(ABC):\n",
        "    @abstractmethod\n",
        "    def area(self):\n",
        "        pass\n",
        "\n",
        "class Circle(Shape):\n",
        "    def __init__(self, radius):\n",
        "        self.radius = radius\n",
        "\n",
        "    def area(self):\n",
        "        return 3.14 * self.radius * self.radius\n",
        "\n",
        "class Rectangle(Shape):\n",
        "    def __init__(self, width, height):\n",
        "        self.width = width\n",
        "        self.height = height\n",
        "\n",
        "    def area(self):\n",
        "        return self.width * self.height\n",
        "\n",
        "# Create instances of the derived classes\n",
        "circle = Circle(5)\n",
        "rectangle = Rectangle(4, 6)\n",
        "\n",
        "# Call the area method on each instance\n",
        "print(f\"Area of Circle: {circle.area()}\")\n",
        "print(f\"Area of Rectangle: {rectangle.area()}\")"
      ],
      "execution_count": 40,
      "outputs": [
        {
          "output_type": "stream",
          "name": "stdout",
          "text": [
            "Area of Circle: 78.5\n",
            "Area of Rectangle: 24\n"
          ]
        }
      ]
    },
    {
      "cell_type": "code",
      "source": [
        "#3. Implement a multi-level inheritance scenario where a class Vehicle has an attribute type. Derive a class Car and further derive a class ElectricCar that adds a battery attribute."
      ],
      "metadata": {
        "id": "2LNu1AyPEKip"
      },
      "execution_count": 41,
      "outputs": []
    },
    {
      "cell_type": "code",
      "metadata": {
        "colab": {
          "base_uri": "https://localhost:8080/"
        },
        "id": "d6b7ac56",
        "outputId": "c68091db-70f1-45d5-d990-1017afcbdaa4"
      },
      "source": [
        "class Vehicle:\n",
        "    def __init__(self, vehicle_type):\n",
        "        self.vehicle_type = vehicle_type\n",
        "        print(f\"Vehicle type: {self.vehicle_type}\")\n",
        "\n",
        "class Car(Vehicle):\n",
        "    def __init__(self, vehicle_type, brand):\n",
        "        super().__init__(vehicle_type)\n",
        "        self.brand = brand\n",
        "        print(f\"Car brand: {self.brand}\")\n",
        "\n",
        "class ElectricCar(Car):\n",
        "    def __init__(self, vehicle_type, brand, battery_capacity):\n",
        "        super().__init__(vehicle_type, brand)\n",
        "        self.battery_capacity = battery_capacity\n",
        "        print(f\"Battery capacity: {self.battery_capacity} kWh\")\n",
        "\n",
        "# Create an instance of the ElectricCar class\n",
        "my_electric_car = ElectricCar(\"Car\", \"Tesla\", 75)\n",
        "\n",
        "# Access attributes from all levels of inheritance\n",
        "print(f\"\\nMy electric car details:\")\n",
        "print(f\"Type: {my_electric_car.vehicle_type}\")\n",
        "print(f\"Brand: {my_electric_car.brand}\")\n",
        "print(f\"Battery Capacity: {my_electric_car.battery_capacity} kWh\")"
      ],
      "execution_count": 42,
      "outputs": [
        {
          "output_type": "stream",
          "name": "stdout",
          "text": [
            "Vehicle type: Car\n",
            "Car brand: Tesla\n",
            "Battery capacity: 75 kWh\n",
            "\n",
            "My electric car details:\n",
            "Type: Car\n",
            "Brand: Tesla\n",
            "Battery Capacity: 75 kWh\n"
          ]
        }
      ]
    },
    {
      "cell_type": "code",
      "source": [
        "#4."
      ],
      "metadata": {
        "id": "rU504Ky1EY23"
      },
      "execution_count": 43,
      "outputs": []
    },
    {
      "cell_type": "code",
      "metadata": {
        "colab": {
          "base_uri": "https://localhost:8080/"
        },
        "id": "b726eba3",
        "outputId": "cfa94dd1-96e9-4a4f-9472-3ce857e29325"
      },
      "source": [
        "#4. Demonstrate polymorphism by creating a base class Bird with a method fly().\n",
        "# Create two derived classes Sparrow and Penguin that override the fly() method.\n",
        "\n",
        "class Bird:\n",
        "    def fly(self):\n",
        "        pass  # Base class with a placeholder method\n",
        "\n",
        "class Sparrow(Bird):\n",
        "    def fly(self):\n",
        "        return \"Sparrow is flying high.\"\n",
        "\n",
        "class Penguin(Bird):\n",
        "    def fly(self):\n",
        "        return \"Penguin cannot fly.\" # Penguins don't fly, they swim!\n",
        "\n",
        "# A function that works with any object that has a 'fly' method\n",
        "def bird_flight(bird):\n",
        "    print(bird.fly())\n",
        "\n",
        "# Creating objects of different bird types\n",
        "sparrow = Sparrow()\n",
        "penguin = Penguin()\n",
        "\n",
        "# Calling the bird_flight function with different objects\n",
        "bird_flight(sparrow)\n",
        "bird_flight(penguin)"
      ],
      "execution_count": 44,
      "outputs": [
        {
          "output_type": "stream",
          "name": "stdout",
          "text": [
            "Sparrow is flying high.\n",
            "Penguin cannot fly.\n"
          ]
        }
      ]
    },
    {
      "cell_type": "code",
      "metadata": {
        "colab": {
          "base_uri": "https://localhost:8080/"
        },
        "id": "bd67fbb6",
        "outputId": "52d601d8-902b-48b5-c8d3-5f6029bd5b3c"
      },
      "source": [
        "#5.Write a program to demonstrate encapsulation by creating a class BankAccount with private attributes balance and methods to deposit, withdraw, and check balance.\n",
        "\n",
        "class BankAccount:\n",
        "    def __init__(self):\n",
        "        self.__balance = 0  # Private attribute using name mangling\n",
        "\n",
        "    def deposit(self, amount):\n",
        "        if amount > 0:\n",
        "            self.__balance += amount\n",
        "            print(f\"Deposited: ${amount}. New balance: ${self.__balance}\")\n",
        "        else:\n",
        "            print(\"Deposit amount must be positive.\")\n",
        "\n",
        "    def withdraw(self, amount):\n",
        "        if amount > 0 and amount <= self.__balance:\n",
        "            self.__balance -= amount\n",
        "            print(f\"Withdrew: ${amount}. New balance: ${self.__balance}\")\n",
        "        elif amount > self.__balance:\n",
        "            print(\"Insufficient funds.\")\n",
        "        else:\n",
        "            print(\"Withdrawal amount must be positive.\")\n",
        "\n",
        "    def check_balance(self):\n",
        "        print(f\"Current balance: ${self.__balance}\")\n",
        "\n",
        "# Create a BankAccount object\n",
        "account = BankAccount()\n",
        "\n",
        "# Deposit money\n",
        "account.deposit(1000)\n",
        "\n",
        "# Withdraw money\n",
        "account.withdraw(500)\n",
        "\n",
        "# Check balance\n",
        "account.check_balance()\n",
        "\n",
        "# Try to withdraw more than the balance\n",
        "account.withdraw(600)\n",
        "\n",
        "# Trying to access the private attribute directly (will result in an AttributeError)\n",
        "# try:\n",
        "#     print(account.__balance)\n",
        "# except AttributeError as e:\n",
        "#     print(f\"\\nError accessing private attribute directly: {e}\")\n",
        "\n",
        "# Accessing the private attribute using name mangling (not recommended for general use)\n",
        "# print(account._BankAccount__balance)"
      ],
      "execution_count": 45,
      "outputs": [
        {
          "output_type": "stream",
          "name": "stdout",
          "text": [
            "Deposited: $1000. New balance: $1000\n",
            "Withdrew: $500. New balance: $500\n",
            "Current balance: $500\n",
            "Insufficient funds.\n"
          ]
        }
      ]
    },
    {
      "cell_type": "code",
      "metadata": {
        "colab": {
          "base_uri": "https://localhost:8080/"
        },
        "id": "11b5e75c",
        "outputId": "dc2ad7d5-6200-4795-8733-0727b0c70bb8"
      },
      "source": [
        "#6. Demonstrate runtime polymorphism using a method play() in a base class Instrument.\n",
        "# Derive classes Guitar and Piano that implement their own version of play().\n",
        "\n",
        "class Instrument:\n",
        "    def play(self):\n",
        "        pass  # Base class with a placeholder method\n",
        "\n",
        "class Guitar(Instrument):\n",
        "    def play(self):\n",
        "        return \"Strumming the guitar.\"\n",
        "\n",
        "class Piano(Instrument):\n",
        "    def play(self):\n",
        "        return \"Playing the piano keys.\"\n",
        "\n",
        "# A function that works with any object that has a 'play' method\n",
        "def make_instrument_play(instrument):\n",
        "    print(instrument.play())\n",
        "\n",
        "# Creating objects of different instrument types\n",
        "guitar = Guitar()\n",
        "piano = Piano()\n",
        "\n",
        "# Calling the make_instrument_play function with different objects\n",
        "make_instrument_play(guitar)\n",
        "make_instrument_play(piano)"
      ],
      "execution_count": 46,
      "outputs": [
        {
          "output_type": "stream",
          "name": "stdout",
          "text": [
            "Strumming the guitar.\n",
            "Playing the piano keys.\n"
          ]
        }
      ]
    },
    {
      "cell_type": "code",
      "metadata": {
        "colab": {
          "base_uri": "https://localhost:8080/"
        },
        "id": "7e26cf68",
        "outputId": "2c1b67fe-9258-4f08-a450-921e6c157262"
      },
      "source": [
        "#7. Create a class MathOperations with a class method add_numbers() to add two numbers and a static method subtract_numbers() to subtract two numbers.\n",
        "\n",
        "class MathOperations:\n",
        "    @classmethod\n",
        "    def add_numbers(cls, x, y):\n",
        "        \"\"\"Class method to add two numbers.\"\"\"\n",
        "        print(\"Using class method for addition:\")\n",
        "        return x + y\n",
        "\n",
        "    @staticmethod\n",
        "    def subtract_numbers(x, y):\n",
        "        \"\"\"Static method to subtract two numbers.\"\"\"\n",
        "        print(\"Using static method for subtraction:\")\n",
        "        return x - y\n",
        "\n",
        "# Using the class method\n",
        "sum_result = MathOperations.add_numbers(10, 5)\n",
        "print(f\"Sum: {sum_result}\")\n",
        "\n",
        "# Using the static method\n",
        "difference_result = MathOperations.subtract_numbers(10, 5)\n",
        "print(f\"Difference: {difference_result}\")"
      ],
      "execution_count": 47,
      "outputs": [
        {
          "output_type": "stream",
          "name": "stdout",
          "text": [
            "Using class method for addition:\n",
            "Sum: 15\n",
            "Using static method for subtraction:\n",
            "Difference: 5\n"
          ]
        }
      ]
    },
    {
      "cell_type": "code",
      "metadata": {
        "colab": {
          "base_uri": "https://localhost:8080/"
        },
        "id": "e9df08b0",
        "outputId": "237ed28d-e1a8-4fc7-ea16-be462f02be0b"
      },
      "source": [
        "#8. Implement a class Person with a class method to count the total number of persons created.\n",
        "\n",
        "class Person:\n",
        "    # Class variable to keep track of the number of instances\n",
        "    person_count = 0\n",
        "\n",
        "    def __init__(self, name):\n",
        "        self.name = name\n",
        "        # Increment the class variable when a new instance is created\n",
        "        Person.person_count += 1\n",
        "\n",
        "    @classmethod\n",
        "    def get_person_count(cls):\n",
        "        \"\"\"Class method to get the total number of persons created.\"\"\"\n",
        "        return cls.person_count\n",
        "\n",
        "# Creating instances of the Person class\n",
        "person1 = Person(\"Alice\")\n",
        "person2 = Person(\"Bob\")\n",
        "person3 = Person(\"Charlie\")\n",
        "\n",
        "# Using the class method to get the total count\n",
        "total_persons = Person.get_person_count()\n",
        "print(f\"Total number of persons created: {total_persons}\")"
      ],
      "execution_count": 48,
      "outputs": [
        {
          "output_type": "stream",
          "name": "stdout",
          "text": [
            "Total number of persons created: 3\n"
          ]
        }
      ]
    },
    {
      "cell_type": "code",
      "metadata": {
        "colab": {
          "base_uri": "https://localhost:8080/"
        },
        "id": "4f3dfc55",
        "outputId": "627db240-518a-4b68-ccf0-b711dcc2ccd0"
      },
      "source": [
        "#9. Write a class Fraction with attributes numerator and denominator. Override the str method to display the fraction as \"numerator/denominator\".\n",
        "\n",
        "class Fraction:\n",
        "    def __init__(self, numerator, denominator):\n",
        "        self.numerator = numerator\n",
        "        self.denominator = denominator\n",
        "\n",
        "    def __str__(self):\n",
        "        \"\"\"Overrides the string representation for user-friendly display.\"\"\"\n",
        "        return f\"{self.numerator}/{self.denominator}\"\n",
        "\n",
        "# Create a Fraction object\n",
        "fraction1 = Fraction(3, 4)\n",
        "fraction2 = Fraction(1, 2)\n",
        "\n",
        "# Print the fraction (calls the __str__ method)\n",
        "print(fraction1)\n",
        "print(fraction2)\n",
        "\n",
        "# You can also use str() explicitly\n",
        "print(str(fraction1))"
      ],
      "execution_count": 49,
      "outputs": [
        {
          "output_type": "stream",
          "name": "stdout",
          "text": [
            "3/4\n",
            "1/2\n",
            "3/4\n"
          ]
        }
      ]
    },
    {
      "cell_type": "code",
      "metadata": {
        "colab": {
          "base_uri": "https://localhost:8080/"
        },
        "id": "ea264e01",
        "outputId": "c06eec66-24f5-47c3-d23c-67acd1722ae0"
      },
      "source": [
        "#10. Demonstrate operator overloading by creating a class Vector and overriding the add method to add two vectors.\n",
        "\n",
        "class Vector:\n",
        "    def __init__(self, x, y):\n",
        "        self.x = x\n",
        "        self.y = y\n",
        "\n",
        "    def __str__(self):\n",
        "        return f\"Vector({self.x}, {self.y})\"\n",
        "\n",
        "    def __add__(self, other):\n",
        "        \"\"\"Overrides the '+' operator for Vector objects.\"\"\"\n",
        "        if isinstance(other, Vector):\n",
        "            return Vector(self.x + other.x, self.y + other.y)\n",
        "        else:\n",
        "            raise TypeError(\"Unsupported operand type for +\")\n",
        "\n",
        "# Creating two Vector objects\n",
        "v1 = Vector(2, 3)\n",
        "v2 = Vector(5, 1)\n",
        "\n",
        "# Adding the vectors using the '+' operator (calls the __add__ method)\n",
        "v3 = v1 + v2\n",
        "\n",
        "print(f\"Vector 1: {v1}\")\n",
        "print(f\"Vector 2: {v2}\")\n",
        "print(f\"Sum of vectors: {v3}\")\n",
        "\n",
        "# Trying to add a Vector and a non-Vector (will raise a TypeError)\n",
        "# try:\n",
        "#     v4 = v1 + 10\n",
        "# except TypeError as e:\n",
        "#     print(f\"\\nError: {e}\")"
      ],
      "execution_count": 50,
      "outputs": [
        {
          "output_type": "stream",
          "name": "stdout",
          "text": [
            "Vector 1: Vector(2, 3)\n",
            "Vector 2: Vector(5, 1)\n",
            "Sum of vectors: Vector(7, 4)\n"
          ]
        }
      ]
    },
    {
      "cell_type": "code",
      "metadata": {
        "colab": {
          "base_uri": "https://localhost:8080/"
        },
        "id": "7eeccceb",
        "outputId": "a5094789-69ba-4d70-9880-9809fb2cd3ce"
      },
      "source": [
        "#11. Create a class Person with attributes name and age. Add a method greet() that prints \"Hello, my name is {name} and I am {age} years old.\n",
        "\n",
        "class Person:\n",
        "    def __init__(self, name, age):\n",
        "        self.name = name\n",
        "        self.age = age\n",
        "\n",
        "    def greet(self):\n",
        "        print(f\"Hello, my name is {self.name} and I am {self.age} years old.\")\n",
        "\n",
        "# Create a Person object\n",
        "person1 = Person(\"Alice\", 30)\n",
        "\n",
        "# Call the greet method\n",
        "person1.greet()"
      ],
      "execution_count": 51,
      "outputs": [
        {
          "output_type": "stream",
          "name": "stdout",
          "text": [
            "Hello, my name is Alice and I am 30 years old.\n"
          ]
        }
      ]
    },
    {
      "cell_type": "code",
      "metadata": {
        "colab": {
          "base_uri": "https://localhost:8080/"
        },
        "id": "8f3fa265",
        "outputId": "b7573c2e-b056-4e96-98e3-c5707d2f9c9e"
      },
      "source": [
        "#12. Implement a class Student with attributes name and grades. Create a method average_grade() to compute the average of the grades.\n",
        "\n",
        "class Student:\n",
        "    def __init__(self, name, grades):\n",
        "        self.name = name\n",
        "        self.grades = grades  # grades is expected to be a list of numbers\n",
        "\n",
        "    def average_grade(self):\n",
        "        \"\"\"Computes the average of the student's grades.\"\"\"\n",
        "        if not self.grades:\n",
        "            return 0  # Return 0 if there are no grades\n",
        "        return sum(self.grades) / len(self.grades)\n",
        "\n",
        "# Create a Student object\n",
        "student1 = Student(\"Bob\", [85, 90, 78, 92])\n",
        "\n",
        "# Compute and print the average grade\n",
        "average = student1.average_grade()\n",
        "print(f\"{student1.name}'s average grade is: {average}\")\n",
        "\n",
        "# Example with no grades\n",
        "student2 = Student(\"Alice\", [])\n",
        "average2 = student2.average_grade()\n",
        "print(f\"{student2.name}'s average grade is: {average2}\")"
      ],
      "execution_count": 52,
      "outputs": [
        {
          "output_type": "stream",
          "name": "stdout",
          "text": [
            "Bob's average grade is: 86.25\n",
            "Alice's average grade is: 0\n"
          ]
        }
      ]
    },
    {
      "cell_type": "code",
      "metadata": {
        "colab": {
          "base_uri": "https://localhost:8080/"
        },
        "id": "dcb62811",
        "outputId": "c39ab24e-b5bf-41a7-c949-50992bd7ed36"
      },
      "source": [
        "#13. Create a class Rectangle with methods set_dimensions() to set the dimensions and area() to calculate the area.\n",
        "\n",
        "class Rectangle:\n",
        "    def __init__(self):\n",
        "        self.width = 0\n",
        "        self.height = 0\n",
        "\n",
        "    def set_dimensions(self, width, height):\n",
        "        \"\"\"Sets the width and height of the rectangle.\"\"\"\n",
        "        if width >= 0 and height >= 0:\n",
        "            self.width = width\n",
        "            self.height = height\n",
        "        else:\n",
        "            print(\"Dimensions must be non-negative.\")\n",
        "\n",
        "    def area(self):\n",
        "        \"\"\"Calculates and returns the area of the rectangle.\"\"\"\n",
        "        return self.width * self.height\n",
        "\n",
        "# Create a Rectangle object\n",
        "rectangle1 = Rectangle()\n",
        "\n",
        "# Set the dimensions\n",
        "rectangle1.set_dimensions(10, 5)\n",
        "\n",
        "# Calculate and print the area\n",
        "print(f\"The area of the rectangle is: {rectangle1.area()}\")\n",
        "\n",
        "# Try setting negative dimensions\n",
        "rectangle1.set_dimensions(-2, 4)"
      ],
      "execution_count": 53,
      "outputs": [
        {
          "output_type": "stream",
          "name": "stdout",
          "text": [
            "The area of the rectangle is: 50\n",
            "Dimensions must be non-negative.\n"
          ]
        }
      ]
    },
    {
      "cell_type": "code",
      "metadata": {
        "colab": {
          "base_uri": "https://localhost:8080/"
        },
        "id": "36de08d4",
        "outputId": "c06b649e-ef63-4048-b077-519d0db5dc64"
      },
      "source": [
        "#14. Create a class Employee with a method calculate_salary() that computes the salary based on hours worked and hourly rate.\n",
        "# Create a derived class Manager that adds a bonus to the salary.\n",
        "\n",
        "class Employee:\n",
        "    def __init__(self, hours_worked, hourly_rate):\n",
        "        self.hours_worked = hours_worked\n",
        "        self.hourly_rate = hourly_rate\n",
        "\n",
        "    def calculate_salary(self):\n",
        "        \"\"\"Computes the salary based on hours worked and hourly rate.\"\"\"\n",
        "        return self.hours_worked * self.hourly_rate\n",
        "\n",
        "class Manager(Employee):\n",
        "    def __init__(self, hours_worked, hourly_rate, bonus):\n",
        "        super().__init__(hours_worked, hourly_rate)\n",
        "        self.bonus = bonus\n",
        "\n",
        "    def calculate_salary(self):\n",
        "        \"\"\"Computes the salary with an added bonus.\"\"\"\n",
        "        base_salary = super().calculate_salary()\n",
        "        return base_salary + self.bonus\n",
        "\n",
        "# Create instances of the classes\n",
        "employee1 = Employee(40, 20)\n",
        "manager1 = Manager(40, 25, 1000)\n",
        "\n",
        "# Calculate and print salaries\n",
        "print(f\"Employee 1 salary: ${employee1.calculate_salary()}\")\n",
        "print(f\"Manager 1 salary: ${manager1.calculate_salary()}\")"
      ],
      "execution_count": 54,
      "outputs": [
        {
          "output_type": "stream",
          "name": "stdout",
          "text": [
            "Employee 1 salary: $800\n",
            "Manager 1 salary: $2000\n"
          ]
        }
      ]
    },
    {
      "cell_type": "code",
      "metadata": {
        "colab": {
          "base_uri": "https://localhost:8080/"
        },
        "id": "0e161267",
        "outputId": "195ee4da-c722-43de-a3d0-6777a80337b3"
      },
      "source": [
        "#15. Create a class Product with attributes name, price, and quantity. Implement a method total_price() that calculates the total price of the product.\n",
        "\n",
        "class Product:\n",
        "    def __init__(self, name, price, quantity):\n",
        "        self.name = name\n",
        "        self.price = price\n",
        "        self.quantity = quantity\n",
        "\n",
        "    def total_price(self):\n",
        "        \"\"\"Calculates the total price of the product.\"\"\"\n",
        "        return self.price * self.quantity\n",
        "\n",
        "# Create a Product object\n",
        "product1 = Product(\"Laptop\", 1200, 2)\n",
        "\n",
        "# Calculate and print the total price\n",
        "total = product1.total_price()\n",
        "print(f\"The total price of {product1.name} is: ${total}\")"
      ],
      "execution_count": 55,
      "outputs": [
        {
          "output_type": "stream",
          "name": "stdout",
          "text": [
            "The total price of Laptop is: $2400\n"
          ]
        }
      ]
    },
    {
      "cell_type": "code",
      "metadata": {
        "colab": {
          "base_uri": "https://localhost:8080/"
        },
        "id": "e897b1f8",
        "outputId": "19a02364-c322-49a9-fdcf-1211ef8b4fac"
      },
      "source": [
        "#16. Create a class Animal with an abstract method sound(). Create two derived classes Cow and Sheep that implement the sound() method.\n",
        "\n",
        "from abc import ABC, abstractmethod\n",
        "\n",
        "class Animal(ABC):\n",
        "    @abstractmethod\n",
        "    def sound(self):\n",
        "        pass\n",
        "\n",
        "class Cow(Animal):\n",
        "    def sound(self):\n",
        "        return \"Moo!\"\n",
        "\n",
        "class Sheep(Animal):\n",
        "    def sound(self):\n",
        "        return \"Baa!\"\n",
        "\n",
        "# Create instances of the derived classes\n",
        "cow = Cow()\n",
        "sheep = Sheep()\n",
        "\n",
        "# Call the sound method on each instance\n",
        "print(f\"Cow says: {cow.sound()}\")\n",
        "print(f\"Sheep says: {sheep.sound()}\")"
      ],
      "execution_count": 56,
      "outputs": [
        {
          "output_type": "stream",
          "name": "stdout",
          "text": [
            "Cow says: Moo!\n",
            "Sheep says: Baa!\n"
          ]
        }
      ]
    },
    {
      "cell_type": "code",
      "metadata": {
        "colab": {
          "base_uri": "https://localhost:8080/"
        },
        "id": "a84cc04b",
        "outputId": "74a74d76-2860-48a0-a93f-110ca10e478e"
      },
      "source": [
        "#17. Create a class Book with attributes title, author, and year_published. Add a method get_book_info() that returns a formatted string with the book's details.\n",
        "\n",
        "class Book:\n",
        "    def __init__(self, title, author, year_published):\n",
        "        self.title = title\n",
        "        self.author = author\n",
        "        self.year_published = year_published\n",
        "\n",
        "    def get_book_info(self):\n",
        "        \"\"\"Returns a formatted string with the book's details.\"\"\"\n",
        "        return f\"Title: {self.title}, Author: {self.author}, Year Published: {self.year_published}\"\n",
        "\n",
        "# Create a Book object\n",
        "book1 = Book(\"The Hitchhiker's Guide to the Galaxy\", \"Douglas Adams\", 1979)\n",
        "\n",
        "# Get and print the book information\n",
        "book_info = book1.get_book_info()\n",
        "print(book_info)"
      ],
      "execution_count": 57,
      "outputs": [
        {
          "output_type": "stream",
          "name": "stdout",
          "text": [
            "Title: The Hitchhiker's Guide to the Galaxy, Author: Douglas Adams, Year Published: 1979\n"
          ]
        }
      ]
    },
    {
      "cell_type": "code",
      "metadata": {
        "colab": {
          "base_uri": "https://localhost:8080/"
        },
        "id": "4b9d9392",
        "outputId": "3f97bed9-7064-4e00-d4da-6c25e7685129"
      },
      "source": [
        "#18. Create a class House with attributes address and price. Create a derived class Mansion that adds an attribute number_of_rooms.\n",
        "\n",
        "class House:\n",
        "    def __init__(self, address, price):\n",
        "        self.address = address\n",
        "        self.price = price\n",
        "        print(f\"House created at {self.address}\")\n",
        "\n",
        "class Mansion(House):\n",
        "    def __init__(self, address, price, number_of_rooms):\n",
        "        super().__init__(address, price)\n",
        "        self.number_of_rooms = number_of_rooms\n",
        "        print(f\"Mansion created with {self.number_of_rooms} rooms\")\n",
        "\n",
        "# Create an instance of the Mansion class\n",
        "my_mansion = Mansion(\"123 Luxury Lane\", 5000000, 20)\n",
        "\n",
        "# Access attributes from both the base and derived classes\n",
        "print(f\"\\nMy mansion details:\")\n",
        "print(f\"Address: {my_mansion.address}\")\n",
        "print(f\"Price: ${my_mansion.price}\")\n",
        "print(f\"Number of rooms: {my_mansion.number_of_rooms}\")"
      ],
      "execution_count": 58,
      "outputs": [
        {
          "output_type": "stream",
          "name": "stdout",
          "text": [
            "House created at 123 Luxury Lane\n",
            "Mansion created with 20 rooms\n",
            "\n",
            "My mansion details:\n",
            "Address: 123 Luxury Lane\n",
            "Price: $5000000\n",
            "Number of rooms: 20\n"
          ]
        }
      ]
    }
  ]
}